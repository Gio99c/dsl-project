{
 "cells": [
  {
   "cell_type": "markdown",
   "id": "32b6a152",
   "metadata": {},
   "source": [
    "# Twitter Sentiment Analysis Classification"
   ]
  },
  {
   "cell_type": "markdown",
   "id": "388bd6bb",
   "metadata": {},
   "source": [
    "## Libraries"
   ]
  },
  {
   "cell_type": "code",
   "execution_count": 4,
   "id": "235e3dfb",
   "metadata": {},
   "outputs": [],
   "source": [
    "import numpy as np\n",
    "import pandas as pd"
   ]
  },
  {
   "cell_type": "markdown",
   "id": "85ed58c4",
   "metadata": {},
   "source": [
    "## Dataset Load"
   ]
  },
  {
   "cell_type": "code",
   "execution_count": 3,
   "id": "a9914c69",
   "metadata": {},
   "outputs": [
    {
     "name": "stdout",
     "output_type": "stream",
     "text": [
      "  % Total    % Received % Xferd  Average Speed   Time    Time     Time  Current\n",
      "                                 Dload  Upload   Total   Spent    Left  Speed\n",
      "100 17.7M  100 17.7M    0     0  16.0M      0  0:00:01  0:00:01 --:--:-- 16.0M\n"
     ]
    }
   ],
   "source": [
    "!curl \"https://dbdmg.polito.it/dbdmg_web/wp-content/uploads/2021/12/DSL2122_january_dataset.zip\" -Lo dataset.zip"
   ]
  },
  {
   "cell_type": "code",
   "execution_count": 4,
   "id": "b2ee5dcb",
   "metadata": {},
   "outputs": [],
   "source": [
    "!unzip -q dataset.zip; rm dataset.zip; rm -r __MACOSX/"
   ]
  },
  {
   "cell_type": "code",
   "execution_count": 55,
   "id": "fbb8a1e0",
   "metadata": {},
   "outputs": [
    {
     "data": {
      "text/html": [
       "<div>\n",
       "<style scoped>\n",
       "    .dataframe tbody tr th:only-of-type {\n",
       "        vertical-align: middle;\n",
       "    }\n",
       "\n",
       "    .dataframe tbody tr th {\n",
       "        vertical-align: top;\n",
       "    }\n",
       "\n",
       "    .dataframe thead th {\n",
       "        text-align: right;\n",
       "    }\n",
       "</style>\n",
       "<table border=\"1\" class=\"dataframe\">\n",
       "  <thead>\n",
       "    <tr style=\"text-align: right;\">\n",
       "      <th></th>\n",
       "      <th>sentiment</th>\n",
       "      <th>ids</th>\n",
       "      <th>date</th>\n",
       "      <th>flag</th>\n",
       "      <th>user</th>\n",
       "      <th>text</th>\n",
       "    </tr>\n",
       "  </thead>\n",
       "  <tbody>\n",
       "    <tr>\n",
       "      <th>0</th>\n",
       "      <td>1</td>\n",
       "      <td>1833972543</td>\n",
       "      <td>Mon May 18 01:08:27 PDT 2009</td>\n",
       "      <td>NO_QUERY</td>\n",
       "      <td>Killandra</td>\n",
       "      <td>@MissBianca76 Yes, talking helps a lot.. going...</td>\n",
       "    </tr>\n",
       "    <tr>\n",
       "      <th>1</th>\n",
       "      <td>1</td>\n",
       "      <td>1980318193</td>\n",
       "      <td>Sun May 31 06:23:17 PDT 2009</td>\n",
       "      <td>NO_QUERY</td>\n",
       "      <td>IMlisacowan</td>\n",
       "      <td>SUNSHINE. livingg itttt. imma lie on the grass...</td>\n",
       "    </tr>\n",
       "    <tr>\n",
       "      <th>2</th>\n",
       "      <td>1</td>\n",
       "      <td>1994409198</td>\n",
       "      <td>Mon Jun 01 11:52:54 PDT 2009</td>\n",
       "      <td>NO_QUERY</td>\n",
       "      <td>yaseminx3</td>\n",
       "      <td>@PleaseBeMine Something for your iphone</td>\n",
       "    </tr>\n",
       "    <tr>\n",
       "      <th>3</th>\n",
       "      <td>0</td>\n",
       "      <td>1824749377</td>\n",
       "      <td>Sun May 17 02:45:34 PDT 2009</td>\n",
       "      <td>NO_QUERY</td>\n",
       "      <td>no_surprises</td>\n",
       "      <td>@GabrielSaporta couldn't get in to the after p...</td>\n",
       "    </tr>\n",
       "    <tr>\n",
       "      <th>4</th>\n",
       "      <td>0</td>\n",
       "      <td>2001199113</td>\n",
       "      <td>Tue Jun 02 00:08:07 PDT 2009</td>\n",
       "      <td>NO_QUERY</td>\n",
       "      <td>Rhi_ShortStack</td>\n",
       "      <td>@bradiewebbstack awww is andy being mean again...</td>\n",
       "    </tr>\n",
       "    <tr>\n",
       "      <th>...</th>\n",
       "      <td>...</td>\n",
       "      <td>...</td>\n",
       "      <td>...</td>\n",
       "      <td>...</td>\n",
       "      <td>...</td>\n",
       "      <td>...</td>\n",
       "    </tr>\n",
       "    <tr>\n",
       "      <th>224989</th>\n",
       "      <td>0</td>\n",
       "      <td>2261324310</td>\n",
       "      <td>Sat Jun 20 20:36:48 PDT 2009</td>\n",
       "      <td>NO_QUERY</td>\n",
       "      <td>CynthiaBuroughs</td>\n",
       "      <td>@Dropsofreign yeah I hope Iran people reach fr...</td>\n",
       "    </tr>\n",
       "    <tr>\n",
       "      <th>224990</th>\n",
       "      <td>1</td>\n",
       "      <td>1989408152</td>\n",
       "      <td>Mon Jun 01 01:25:45 PDT 2009</td>\n",
       "      <td>NO_QUERY</td>\n",
       "      <td>unitechy</td>\n",
       "      <td>Trying the qwerty keypad</td>\n",
       "    </tr>\n",
       "    <tr>\n",
       "      <th>224991</th>\n",
       "      <td>0</td>\n",
       "      <td>1991221316</td>\n",
       "      <td>Mon Jun 01 06:38:10 PDT 2009</td>\n",
       "      <td>NO_QUERY</td>\n",
       "      <td>Xaan</td>\n",
       "      <td>I love Jasper &amp;amp; Jackson but that wig in th...</td>\n",
       "    </tr>\n",
       "    <tr>\n",
       "      <th>224992</th>\n",
       "      <td>0</td>\n",
       "      <td>2239702807</td>\n",
       "      <td>Fri Jun 19 08:51:56 PDT 2009</td>\n",
       "      <td>NO_QUERY</td>\n",
       "      <td>Ginger_Billie</td>\n",
       "      <td>I am really tired and bored and bleh! I feel c...</td>\n",
       "    </tr>\n",
       "    <tr>\n",
       "      <th>224993</th>\n",
       "      <td>1</td>\n",
       "      <td>2016018811</td>\n",
       "      <td>Wed Jun 03 06:00:29 PDT 2009</td>\n",
       "      <td>NO_QUERY</td>\n",
       "      <td>kevin_choo</td>\n",
       "      <td>@alyshatan good luck!! It sounds interesting t...</td>\n",
       "    </tr>\n",
       "  </tbody>\n",
       "</table>\n",
       "<p>224994 rows × 6 columns</p>\n",
       "</div>"
      ],
      "text/plain": [
       "        sentiment         ids                          date      flag  \\\n",
       "0               1  1833972543  Mon May 18 01:08:27 PDT 2009  NO_QUERY   \n",
       "1               1  1980318193  Sun May 31 06:23:17 PDT 2009  NO_QUERY   \n",
       "2               1  1994409198  Mon Jun 01 11:52:54 PDT 2009  NO_QUERY   \n",
       "3               0  1824749377  Sun May 17 02:45:34 PDT 2009  NO_QUERY   \n",
       "4               0  2001199113  Tue Jun 02 00:08:07 PDT 2009  NO_QUERY   \n",
       "...           ...         ...                           ...       ...   \n",
       "224989          0  2261324310  Sat Jun 20 20:36:48 PDT 2009  NO_QUERY   \n",
       "224990          1  1989408152  Mon Jun 01 01:25:45 PDT 2009  NO_QUERY   \n",
       "224991          0  1991221316  Mon Jun 01 06:38:10 PDT 2009  NO_QUERY   \n",
       "224992          0  2239702807  Fri Jun 19 08:51:56 PDT 2009  NO_QUERY   \n",
       "224993          1  2016018811  Wed Jun 03 06:00:29 PDT 2009  NO_QUERY   \n",
       "\n",
       "                   user                                               text  \n",
       "0             Killandra  @MissBianca76 Yes, talking helps a lot.. going...  \n",
       "1           IMlisacowan  SUNSHINE. livingg itttt. imma lie on the grass...  \n",
       "2             yaseminx3           @PleaseBeMine Something for your iphone   \n",
       "3          no_surprises  @GabrielSaporta couldn't get in to the after p...  \n",
       "4        Rhi_ShortStack  @bradiewebbstack awww is andy being mean again...  \n",
       "...                 ...                                                ...  \n",
       "224989  CynthiaBuroughs  @Dropsofreign yeah I hope Iran people reach fr...  \n",
       "224990         unitechy                          Trying the qwerty keypad   \n",
       "224991             Xaan  I love Jasper &amp; Jackson but that wig in th...  \n",
       "224992    Ginger_Billie  I am really tired and bored and bleh! I feel c...  \n",
       "224993       kevin_choo  @alyshatan good luck!! It sounds interesting t...  \n",
       "\n",
       "[224994 rows x 6 columns]"
      ]
     },
     "execution_count": 55,
     "metadata": {},
     "output_type": "execute_result"
    }
   ],
   "source": [
    "tweets = pd.read_csv(\"./DSL2122_january_dataset/development.csv\")\n",
    "tweets"
   ]
  },
  {
   "cell_type": "markdown",
   "id": "627ba9ed",
   "metadata": {},
   "source": [
    "## Data exploration"
   ]
  },
  {
   "cell_type": "code",
   "execution_count": 56,
   "id": "ab2fc68c",
   "metadata": {},
   "outputs": [
    {
     "name": "stdout",
     "output_type": "stream",
     "text": [
      "<class 'pandas.core.frame.DataFrame'>\n",
      "RangeIndex: 224994 entries, 0 to 224993\n",
      "Data columns (total 6 columns):\n",
      " #   Column     Non-Null Count   Dtype \n",
      "---  ------     --------------   ----- \n",
      " 0   sentiment  224994 non-null  int64 \n",
      " 1   ids        224994 non-null  int64 \n",
      " 2   date       224994 non-null  object\n",
      " 3   flag       224994 non-null  object\n",
      " 4   user       224994 non-null  object\n",
      " 5   text       224994 non-null  object\n",
      "dtypes: int64(2), object(4)\n",
      "memory usage: 10.3+ MB\n"
     ]
    }
   ],
   "source": [
    "tweets.info()"
   ]
  },
  {
   "cell_type": "code",
   "execution_count": 57,
   "id": "a72e1b83",
   "metadata": {},
   "outputs": [
    {
     "data": {
      "text/plain": [
       "0         Mon May 18 01:08:27 PDT 2009\n",
       "1         Sun May 31 06:23:17 PDT 2009\n",
       "2         Mon Jun 01 11:52:54 PDT 2009\n",
       "3         Sun May 17 02:45:34 PDT 2009\n",
       "4         Tue Jun 02 00:08:07 PDT 2009\n",
       "                      ...             \n",
       "224989    Sat Jun 20 20:36:48 PDT 2009\n",
       "224990    Mon Jun 01 01:25:45 PDT 2009\n",
       "224991    Mon Jun 01 06:38:10 PDT 2009\n",
       "224992    Fri Jun 19 08:51:56 PDT 2009\n",
       "224993    Wed Jun 03 06:00:29 PDT 2009\n",
       "Name: date, Length: 224994, dtype: object"
      ]
     },
     "execution_count": 57,
     "metadata": {},
     "output_type": "execute_result"
    }
   ],
   "source": [
    "tweets[\"date\"]"
   ]
  },
  {
   "cell_type": "markdown",
   "id": "81195685",
   "metadata": {},
   "source": [
    "The _date_ feature contains several different information, these are retrived with the following lines of code"
   ]
  },
  {
   "cell_type": "code",
   "execution_count": 58,
   "id": "35bf1bef",
   "metadata": {},
   "outputs": [],
   "source": [
    "tweets[[\"day_of_week\", \"month\", \"day\", \"time\", \"tz\", \"year\"]] = tweets['date'].str.split(' ', expand=True)"
   ]
  },
  {
   "cell_type": "code",
   "execution_count": 59,
   "id": "4e31738f",
   "metadata": {},
   "outputs": [],
   "source": [
    "tweets[[\"hour\", \"minute\", \"second\"]] = tweets['time'].str.split(':', expand=True)"
   ]
  },
  {
   "cell_type": "markdown",
   "id": "1c1ef6c6",
   "metadata": {},
   "source": [
    "At this point, the information whose information have been extracted, can be removed"
   ]
  },
  {
   "cell_type": "code",
   "execution_count": 60,
   "id": "e0ee3ce3",
   "metadata": {},
   "outputs": [],
   "source": [
    "tweets.drop(columns=[\"date\", \"time\"], inplace=True)"
   ]
  },
  {
   "cell_type": "code",
   "execution_count": 61,
   "id": "102ee8b3",
   "metadata": {},
   "outputs": [
    {
     "data": {
      "text/plain": [
       "array(['NO_QUERY'], dtype=object)"
      ]
     },
     "execution_count": 61,
     "metadata": {},
     "output_type": "execute_result"
    }
   ],
   "source": [
    "tweets[\"flag\"].unique()"
   ]
  },
  {
   "cell_type": "code",
   "execution_count": 62,
   "id": "69e8181e",
   "metadata": {},
   "outputs": [
    {
     "data": {
      "text/plain": [
       "array(['PDT'], dtype=object)"
      ]
     },
     "execution_count": 62,
     "metadata": {},
     "output_type": "execute_result"
    }
   ],
   "source": [
    "tweets[\"tz\"].unique()"
   ]
  },
  {
   "cell_type": "code",
   "execution_count": 63,
   "id": "ffe56f8a",
   "metadata": {},
   "outputs": [
    {
     "data": {
      "text/plain": [
       "array(['2009'], dtype=object)"
      ]
     },
     "execution_count": 63,
     "metadata": {},
     "output_type": "execute_result"
    }
   ],
   "source": [
    "tweets[\"year\"].unique()"
   ]
  },
  {
   "cell_type": "markdown",
   "id": "e2a97fb4",
   "metadata": {},
   "source": [
    "Since the dataset containes only dates in Pacific Daylight Time (PDT) format and only for the year 2009, these features are not relevant and can be dropped.\n",
    "The flag feature does not contain any useful info and minutes and seconds do not convey any information so they can be removed as well."
   ]
  },
  {
   "cell_type": "code",
   "execution_count": 64,
   "id": "1df598ef",
   "metadata": {},
   "outputs": [],
   "source": [
    "tweets.drop(columns=[\"tz\", \"year\", \"minute\", \"second\", \"flag\"], inplace=True)"
   ]
  },
  {
   "cell_type": "code",
   "execution_count": 65,
   "id": "e9031bb7",
   "metadata": {},
   "outputs": [
    {
     "data": {
      "text/html": [
       "<div>\n",
       "<style scoped>\n",
       "    .dataframe tbody tr th:only-of-type {\n",
       "        vertical-align: middle;\n",
       "    }\n",
       "\n",
       "    .dataframe tbody tr th {\n",
       "        vertical-align: top;\n",
       "    }\n",
       "\n",
       "    .dataframe thead th {\n",
       "        text-align: right;\n",
       "    }\n",
       "</style>\n",
       "<table border=\"1\" class=\"dataframe\">\n",
       "  <thead>\n",
       "    <tr style=\"text-align: right;\">\n",
       "      <th></th>\n",
       "      <th>sentiment</th>\n",
       "      <th>ids</th>\n",
       "      <th>user</th>\n",
       "      <th>text</th>\n",
       "      <th>day_of_week</th>\n",
       "      <th>month</th>\n",
       "      <th>day</th>\n",
       "      <th>hour</th>\n",
       "    </tr>\n",
       "  </thead>\n",
       "  <tbody>\n",
       "    <tr>\n",
       "      <th>0</th>\n",
       "      <td>1</td>\n",
       "      <td>1833972543</td>\n",
       "      <td>Killandra</td>\n",
       "      <td>@MissBianca76 Yes, talking helps a lot.. going...</td>\n",
       "      <td>Mon</td>\n",
       "      <td>May</td>\n",
       "      <td>18</td>\n",
       "      <td>01</td>\n",
       "    </tr>\n",
       "    <tr>\n",
       "      <th>1</th>\n",
       "      <td>1</td>\n",
       "      <td>1980318193</td>\n",
       "      <td>IMlisacowan</td>\n",
       "      <td>SUNSHINE. livingg itttt. imma lie on the grass...</td>\n",
       "      <td>Sun</td>\n",
       "      <td>May</td>\n",
       "      <td>31</td>\n",
       "      <td>06</td>\n",
       "    </tr>\n",
       "    <tr>\n",
       "      <th>2</th>\n",
       "      <td>1</td>\n",
       "      <td>1994409198</td>\n",
       "      <td>yaseminx3</td>\n",
       "      <td>@PleaseBeMine Something for your iphone</td>\n",
       "      <td>Mon</td>\n",
       "      <td>Jun</td>\n",
       "      <td>01</td>\n",
       "      <td>11</td>\n",
       "    </tr>\n",
       "    <tr>\n",
       "      <th>3</th>\n",
       "      <td>0</td>\n",
       "      <td>1824749377</td>\n",
       "      <td>no_surprises</td>\n",
       "      <td>@GabrielSaporta couldn't get in to the after p...</td>\n",
       "      <td>Sun</td>\n",
       "      <td>May</td>\n",
       "      <td>17</td>\n",
       "      <td>02</td>\n",
       "    </tr>\n",
       "    <tr>\n",
       "      <th>4</th>\n",
       "      <td>0</td>\n",
       "      <td>2001199113</td>\n",
       "      <td>Rhi_ShortStack</td>\n",
       "      <td>@bradiewebbstack awww is andy being mean again...</td>\n",
       "      <td>Tue</td>\n",
       "      <td>Jun</td>\n",
       "      <td>02</td>\n",
       "      <td>00</td>\n",
       "    </tr>\n",
       "    <tr>\n",
       "      <th>...</th>\n",
       "      <td>...</td>\n",
       "      <td>...</td>\n",
       "      <td>...</td>\n",
       "      <td>...</td>\n",
       "      <td>...</td>\n",
       "      <td>...</td>\n",
       "      <td>...</td>\n",
       "      <td>...</td>\n",
       "    </tr>\n",
       "    <tr>\n",
       "      <th>224989</th>\n",
       "      <td>0</td>\n",
       "      <td>2261324310</td>\n",
       "      <td>CynthiaBuroughs</td>\n",
       "      <td>@Dropsofreign yeah I hope Iran people reach fr...</td>\n",
       "      <td>Sat</td>\n",
       "      <td>Jun</td>\n",
       "      <td>20</td>\n",
       "      <td>20</td>\n",
       "    </tr>\n",
       "    <tr>\n",
       "      <th>224990</th>\n",
       "      <td>1</td>\n",
       "      <td>1989408152</td>\n",
       "      <td>unitechy</td>\n",
       "      <td>Trying the qwerty keypad</td>\n",
       "      <td>Mon</td>\n",
       "      <td>Jun</td>\n",
       "      <td>01</td>\n",
       "      <td>01</td>\n",
       "    </tr>\n",
       "    <tr>\n",
       "      <th>224991</th>\n",
       "      <td>0</td>\n",
       "      <td>1991221316</td>\n",
       "      <td>Xaan</td>\n",
       "      <td>I love Jasper &amp;amp; Jackson but that wig in th...</td>\n",
       "      <td>Mon</td>\n",
       "      <td>Jun</td>\n",
       "      <td>01</td>\n",
       "      <td>06</td>\n",
       "    </tr>\n",
       "    <tr>\n",
       "      <th>224992</th>\n",
       "      <td>0</td>\n",
       "      <td>2239702807</td>\n",
       "      <td>Ginger_Billie</td>\n",
       "      <td>I am really tired and bored and bleh! I feel c...</td>\n",
       "      <td>Fri</td>\n",
       "      <td>Jun</td>\n",
       "      <td>19</td>\n",
       "      <td>08</td>\n",
       "    </tr>\n",
       "    <tr>\n",
       "      <th>224993</th>\n",
       "      <td>1</td>\n",
       "      <td>2016018811</td>\n",
       "      <td>kevin_choo</td>\n",
       "      <td>@alyshatan good luck!! It sounds interesting t...</td>\n",
       "      <td>Wed</td>\n",
       "      <td>Jun</td>\n",
       "      <td>03</td>\n",
       "      <td>06</td>\n",
       "    </tr>\n",
       "  </tbody>\n",
       "</table>\n",
       "<p>224994 rows × 8 columns</p>\n",
       "</div>"
      ],
      "text/plain": [
       "        sentiment         ids             user  \\\n",
       "0               1  1833972543        Killandra   \n",
       "1               1  1980318193      IMlisacowan   \n",
       "2               1  1994409198        yaseminx3   \n",
       "3               0  1824749377     no_surprises   \n",
       "4               0  2001199113   Rhi_ShortStack   \n",
       "...           ...         ...              ...   \n",
       "224989          0  2261324310  CynthiaBuroughs   \n",
       "224990          1  1989408152         unitechy   \n",
       "224991          0  1991221316             Xaan   \n",
       "224992          0  2239702807    Ginger_Billie   \n",
       "224993          1  2016018811       kevin_choo   \n",
       "\n",
       "                                                     text day_of_week month  \\\n",
       "0       @MissBianca76 Yes, talking helps a lot.. going...         Mon   May   \n",
       "1       SUNSHINE. livingg itttt. imma lie on the grass...         Sun   May   \n",
       "2                @PleaseBeMine Something for your iphone          Mon   Jun   \n",
       "3       @GabrielSaporta couldn't get in to the after p...         Sun   May   \n",
       "4       @bradiewebbstack awww is andy being mean again...         Tue   Jun   \n",
       "...                                                   ...         ...   ...   \n",
       "224989  @Dropsofreign yeah I hope Iran people reach fr...         Sat   Jun   \n",
       "224990                          Trying the qwerty keypad          Mon   Jun   \n",
       "224991  I love Jasper &amp; Jackson but that wig in th...         Mon   Jun   \n",
       "224992  I am really tired and bored and bleh! I feel c...         Fri   Jun   \n",
       "224993  @alyshatan good luck!! It sounds interesting t...         Wed   Jun   \n",
       "\n",
       "       day hour  \n",
       "0       18   01  \n",
       "1       31   06  \n",
       "2       01   11  \n",
       "3       17   02  \n",
       "4       02   00  \n",
       "...     ..  ...  \n",
       "224989  20   20  \n",
       "224990  01   01  \n",
       "224991  01   06  \n",
       "224992  19   08  \n",
       "224993  03   06  \n",
       "\n",
       "[224994 rows x 8 columns]"
      ]
     },
     "execution_count": 65,
     "metadata": {},
     "output_type": "execute_result"
    }
   ],
   "source": [
    "tweets"
   ]
  }
 ],
 "metadata": {
  "kernelspec": {
   "display_name": "Python 3",
   "language": "python",
   "name": "python3"
  },
  "language_info": {
   "codemirror_mode": {
    "name": "ipython",
    "version": 3
   },
   "file_extension": ".py",
   "mimetype": "text/x-python",
   "name": "python",
   "nbconvert_exporter": "python",
   "pygments_lexer": "ipython3",
   "version": "3.8.8"
  }
 },
 "nbformat": 4,
 "nbformat_minor": 5
}
