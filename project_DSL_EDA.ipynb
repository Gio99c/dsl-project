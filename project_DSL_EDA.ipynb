{
 "cells": [
  {
   "cell_type": "code",
   "execution_count": 13,
   "id": "9023cc14",
   "metadata": {},
   "outputs": [],
   "source": [
    "# Import cell\n",
    "import pandas as pd\n",
    "import numpy as np\n",
    "\n",
    "import matplotlib.pyplot as plt\n",
    "import seaborn as sns\n",
    "\n",
    "from preprocessing import load\n",
    "import html"
   ]
  },
  {
   "cell_type": "code",
   "execution_count": 14,
   "id": "df48a1bf",
   "metadata": {},
   "outputs": [
    {
     "data": {
      "text/html": [
       "<div>\n",
       "<style scoped>\n",
       "    .dataframe tbody tr th:only-of-type {\n",
       "        vertical-align: middle;\n",
       "    }\n",
       "\n",
       "    .dataframe tbody tr th {\n",
       "        vertical-align: top;\n",
       "    }\n",
       "\n",
       "    .dataframe thead th {\n",
       "        text-align: right;\n",
       "    }\n",
       "</style>\n",
       "<table border=\"1\" class=\"dataframe\">\n",
       "  <thead>\n",
       "    <tr style=\"text-align: right;\">\n",
       "      <th></th>\n",
       "      <th>sentiment</th>\n",
       "      <th>ids</th>\n",
       "      <th>date</th>\n",
       "      <th>flag</th>\n",
       "      <th>user</th>\n",
       "      <th>text</th>\n",
       "    </tr>\n",
       "  </thead>\n",
       "  <tbody>\n",
       "    <tr>\n",
       "      <th>0</th>\n",
       "      <td>1</td>\n",
       "      <td>1833972543</td>\n",
       "      <td>Mon May 18 01:08:27 PDT 2009</td>\n",
       "      <td>NO_QUERY</td>\n",
       "      <td>Killandra</td>\n",
       "      <td>@MissBianca76 Yes, talking helps a lot.. going...</td>\n",
       "    </tr>\n",
       "    <tr>\n",
       "      <th>1</th>\n",
       "      <td>1</td>\n",
       "      <td>1980318193</td>\n",
       "      <td>Sun May 31 06:23:17 PDT 2009</td>\n",
       "      <td>NO_QUERY</td>\n",
       "      <td>IMlisacowan</td>\n",
       "      <td>SUNSHINE. livingg itttt. imma lie on the grass...</td>\n",
       "    </tr>\n",
       "    <tr>\n",
       "      <th>2</th>\n",
       "      <td>1</td>\n",
       "      <td>1994409198</td>\n",
       "      <td>Mon Jun 01 11:52:54 PDT 2009</td>\n",
       "      <td>NO_QUERY</td>\n",
       "      <td>yaseminx3</td>\n",
       "      <td>@PleaseBeMine Something for your iphone</td>\n",
       "    </tr>\n",
       "    <tr>\n",
       "      <th>3</th>\n",
       "      <td>0</td>\n",
       "      <td>1824749377</td>\n",
       "      <td>Sun May 17 02:45:34 PDT 2009</td>\n",
       "      <td>NO_QUERY</td>\n",
       "      <td>no_surprises</td>\n",
       "      <td>@GabrielSaporta couldn't get in to the after p...</td>\n",
       "    </tr>\n",
       "    <tr>\n",
       "      <th>4</th>\n",
       "      <td>0</td>\n",
       "      <td>2001199113</td>\n",
       "      <td>Tue Jun 02 00:08:07 PDT 2009</td>\n",
       "      <td>NO_QUERY</td>\n",
       "      <td>Rhi_ShortStack</td>\n",
       "      <td>@bradiewebbstack awww is andy being mean again...</td>\n",
       "    </tr>\n",
       "    <tr>\n",
       "      <th>...</th>\n",
       "      <td>...</td>\n",
       "      <td>...</td>\n",
       "      <td>...</td>\n",
       "      <td>...</td>\n",
       "      <td>...</td>\n",
       "      <td>...</td>\n",
       "    </tr>\n",
       "    <tr>\n",
       "      <th>224989</th>\n",
       "      <td>0</td>\n",
       "      <td>2261324310</td>\n",
       "      <td>Sat Jun 20 20:36:48 PDT 2009</td>\n",
       "      <td>NO_QUERY</td>\n",
       "      <td>CynthiaBuroughs</td>\n",
       "      <td>@Dropsofreign yeah I hope Iran people reach fr...</td>\n",
       "    </tr>\n",
       "    <tr>\n",
       "      <th>224990</th>\n",
       "      <td>1</td>\n",
       "      <td>1989408152</td>\n",
       "      <td>Mon Jun 01 01:25:45 PDT 2009</td>\n",
       "      <td>NO_QUERY</td>\n",
       "      <td>unitechy</td>\n",
       "      <td>Trying the qwerty keypad</td>\n",
       "    </tr>\n",
       "    <tr>\n",
       "      <th>224991</th>\n",
       "      <td>0</td>\n",
       "      <td>1991221316</td>\n",
       "      <td>Mon Jun 01 06:38:10 PDT 2009</td>\n",
       "      <td>NO_QUERY</td>\n",
       "      <td>Xaan</td>\n",
       "      <td>I love Jasper &amp;amp; Jackson but that wig in th...</td>\n",
       "    </tr>\n",
       "    <tr>\n",
       "      <th>224992</th>\n",
       "      <td>0</td>\n",
       "      <td>2239702807</td>\n",
       "      <td>Fri Jun 19 08:51:56 PDT 2009</td>\n",
       "      <td>NO_QUERY</td>\n",
       "      <td>Ginger_Billie</td>\n",
       "      <td>I am really tired and bored and bleh! I feel c...</td>\n",
       "    </tr>\n",
       "    <tr>\n",
       "      <th>224993</th>\n",
       "      <td>1</td>\n",
       "      <td>2016018811</td>\n",
       "      <td>Wed Jun 03 06:00:29 PDT 2009</td>\n",
       "      <td>NO_QUERY</td>\n",
       "      <td>kevin_choo</td>\n",
       "      <td>@alyshatan good luck!! It sounds interesting t...</td>\n",
       "    </tr>\n",
       "  </tbody>\n",
       "</table>\n",
       "<p>224994 rows × 6 columns</p>\n",
       "</div>"
      ],
      "text/plain": [
       "        sentiment         ids                          date      flag  \\\n",
       "0               1  1833972543  Mon May 18 01:08:27 PDT 2009  NO_QUERY   \n",
       "1               1  1980318193  Sun May 31 06:23:17 PDT 2009  NO_QUERY   \n",
       "2               1  1994409198  Mon Jun 01 11:52:54 PDT 2009  NO_QUERY   \n",
       "3               0  1824749377  Sun May 17 02:45:34 PDT 2009  NO_QUERY   \n",
       "4               0  2001199113  Tue Jun 02 00:08:07 PDT 2009  NO_QUERY   \n",
       "...           ...         ...                           ...       ...   \n",
       "224989          0  2261324310  Sat Jun 20 20:36:48 PDT 2009  NO_QUERY   \n",
       "224990          1  1989408152  Mon Jun 01 01:25:45 PDT 2009  NO_QUERY   \n",
       "224991          0  1991221316  Mon Jun 01 06:38:10 PDT 2009  NO_QUERY   \n",
       "224992          0  2239702807  Fri Jun 19 08:51:56 PDT 2009  NO_QUERY   \n",
       "224993          1  2016018811  Wed Jun 03 06:00:29 PDT 2009  NO_QUERY   \n",
       "\n",
       "                   user                                               text  \n",
       "0             Killandra  @MissBianca76 Yes, talking helps a lot.. going...  \n",
       "1           IMlisacowan  SUNSHINE. livingg itttt. imma lie on the grass...  \n",
       "2             yaseminx3           @PleaseBeMine Something for your iphone   \n",
       "3          no_surprises  @GabrielSaporta couldn't get in to the after p...  \n",
       "4        Rhi_ShortStack  @bradiewebbstack awww is andy being mean again...  \n",
       "...                 ...                                                ...  \n",
       "224989  CynthiaBuroughs  @Dropsofreign yeah I hope Iran people reach fr...  \n",
       "224990         unitechy                          Trying the qwerty keypad   \n",
       "224991             Xaan  I love Jasper &amp; Jackson but that wig in th...  \n",
       "224992    Ginger_Billie  I am really tired and bored and bleh! I feel c...  \n",
       "224993       kevin_choo  @alyshatan good luck!! It sounds interesting t...  \n",
       "\n",
       "[224994 rows x 6 columns]"
      ]
     },
     "execution_count": 14,
     "metadata": {},
     "output_type": "execute_result"
    }
   ],
   "source": [
    "tweets = load()\n",
    "tweets"
   ]
  },
  {
   "cell_type": "code",
   "execution_count": 15,
   "id": "428f0649",
   "metadata": {},
   "outputs": [
    {
     "data": {
      "text/html": [
       "<style  type=\"text/css\" >\n",
       "#T_87b23_row0_col0,#T_87b23_row1_col1{\n",
       "            background-color:  #b40426;\n",
       "            color:  #f1f1f1;\n",
       "        }#T_87b23_row0_col1,#T_87b23_row1_col0{\n",
       "            background-color:  #3b4cc0;\n",
       "            color:  #f1f1f1;\n",
       "        }</style><table id=\"T_87b23_\" ><thead>    <tr>        <th class=\"blank level0\" ></th>        <th class=\"col_heading level0 col0\" >sentiment</th>        <th class=\"col_heading level0 col1\" >ids</th>    </tr></thead><tbody>\n",
       "                <tr>\n",
       "                        <th id=\"T_87b23_level0_row0\" class=\"row_heading level0 row0\" >sentiment</th>\n",
       "                        <td id=\"T_87b23_row0_col0\" class=\"data row0 col0\" >1.0</td>\n",
       "                        <td id=\"T_87b23_row0_col1\" class=\"data row0 col1\" >-0.24</td>\n",
       "            </tr>\n",
       "            <tr>\n",
       "                        <th id=\"T_87b23_level0_row1\" class=\"row_heading level0 row1\" >ids</th>\n",
       "                        <td id=\"T_87b23_row1_col0\" class=\"data row1 col0\" >-0.24</td>\n",
       "                        <td id=\"T_87b23_row1_col1\" class=\"data row1 col1\" >1.0</td>\n",
       "            </tr>\n",
       "    </tbody></table>"
      ],
      "text/plain": [
       "<pandas.io.formats.style.Styler at 0x7fa019afef10>"
      ]
     },
     "execution_count": 15,
     "metadata": {},
     "output_type": "execute_result"
    }
   ],
   "source": [
    "tweets.corr().style.format(\"{:.2}\").background_gradient(cmap=plt.get_cmap('coolwarm'), axis=1)"
   ]
  },
  {
   "cell_type": "code",
   "execution_count": 18,
   "id": "c701459e",
   "metadata": {},
   "outputs": [
    {
     "data": {
      "image/png": "[encoded data removed]",
      "text/plain": [
       "<Figure size 720x576 with 1 Axes>"
      ]
     },
     "metadata": {},
     "output_type": "display_data"
    }
   ],
   "source": [
    "sns.set_theme(style='darkgrid')\n",
    "\n",
    "fig, ax = plt.subplots(figsize=(10, 8))\n",
    "\n",
    "d = {0: \"Negative\", 1:\"Positive\"}\n",
    "sns.histplot(data= tweets[\"sentiment\"].apply(lambda x: d[x]),ax=ax)\n",
    "\n",
    "plt.title(\"Sentiment Distribution\", fontdict={\"fontsize\": \"xx-large\"})\n",
    "\n",
    "plt.xlabel(\"Sentiment\", fontdict={\"fontsize\": \"x-large\"})\n",
    "plt.ylabel(\"Count\", fontdict={\"fontsize\": \"x-large\"})\n",
    "\n",
    "plt.xticks(fontsize=15)\n",
    "plt.yticks(fontsize=15)\n",
    "\n",
    "fig.savefig(\"./report/figures/unbalanced.svg\", format='svg')\n",
    "\n",
    "plt.show()"
   ]
  },
  {
   "cell_type": "code",
   "execution_count": 17,
   "id": "dc6c21d9",
   "metadata": {},
   "outputs": [
    {
     "data": {
      "image/png": "[encoded data removed]",
      "text/plain": [
       "<Figure size 720x720 with 1 Axes>"
      ]
     },
     "metadata": {},
     "output_type": "display_data"
    }
   ],
   "source": [
    "tweets[\"text\"] = tweets[\"text\"].apply(lambda x : html.unescape(x))\n",
    "tweets['char_count'] = list(map(lambda x: len(x), tweets['text'])) \n",
    "\n",
    "\n",
    "fig, ax = plt.subplots(figsize=(10, 10))\n",
    "d = {0: \"Negative\", 1:\"Positive\"}\n",
    "\n",
    "sns.boxplot(data=tweets, x = \"char_count\", y = tweets[\"sentiment\"].apply(lambda x: d[x]), orient='h', ax= ax, linewidth=2.5, fliersize=10)\n",
    "\n",
    "\n",
    "plt.title(\"Tweets Length\", fontdict={\"fontsize\": \"xx-large\"})\n",
    "\n",
    "plt.xlabel(\"Char Count\", fontdict={\"fontsize\": \"x-large\"})\n",
    "plt.ylabel(\"Sentiment\", fontdict={\"fontsize\": \"x-large\"})\n",
    "\n",
    "plt.xticks(fontsize=15)\n",
    "plt.yticks(fontsize=15)\n",
    "\n",
    "fig.savefig(\"./report/figures/lenghts_distrib.svg\", format='svg')\n",
    "\n",
    "plt.show()"
   ]
  }
 ],
 "metadata": {
  "kernelspec": {
   "display_name": "Python 3 (ipykernel)",
   "language": "python",
   "name": "python3"
  },
  "language_info": {
   "codemirror_mode": {
    "name": "ipython",
    "version": 3
   },
   "file_extension": ".py",
   "mimetype": "text/x-python",
   "name": "python",
   "nbconvert_exporter": "python",
   "pygments_lexer": "ipython3",
   "version": "3.9.7"
  }
 },
 "nbformat": 4,
 "nbformat_minor": 5
}
